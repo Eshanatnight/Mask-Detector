{
 "cells": [
  {
   "cell_type": "markdown",
   "metadata": {},
   "source": [
    "### Keras API Change\n",
    "\n",
    "The *Adam* optimizer is updated in the Keras API.\n",
    "it is now called *adam_v2*. Not exactly sure how this will affect the code.\n",
    "\n",
    "### Tensorflow Keras Optimizer in the Tensorflow Module\n",
    "\n",
    "has Adam as an optimizer.\n",
    "to use it we need.\n",
    "\n",
    "```python\n",
    "from tensorflow.keras.optimizers import Adam\n",
    "```\n"
   ]
  },
  {
   "cell_type": "code",
   "execution_count": null,
   "metadata": {},
   "outputs": [],
   "source": [
    "import numpy as np\n",
    "import tensorflow as tf\n",
    "from keras.layers import Conv2D\n",
    "from keras.layers import MaxPooling2D\n",
    "from keras.layers import Flatten\n",
    "from keras.layers import Dense\n",
    "from keras.preprocessing.image import ImageDataGenerator\n",
    "from keras.preprocessing import image\n",
    "from keras.models import Sequential\n",
    "from keras.models import load_model\n",
    "import cv2\n",
    "import datetime"
   ]
  },
  {
   "cell_type": "code",
   "execution_count": null,
   "metadata": {},
   "outputs": [],
   "source": [
    "model_path = \"../Models/v1_model.h5\"\n",
    "TRAIN_SET_PATH = \"../gData/train\"\n",
    "TEST_SET_PATH = \"../gData/test\"\n",
    "\n",
    "LEARNING_RATE = 1e-5\n",
    "EPOCHS = 20\n",
    "BATCH_SIZE = 16"
   ]
  },
  {
   "cell_type": "code",
   "execution_count": null,
   "metadata": {},
   "outputs": [],
   "source": [
    "# BUILDING MODEL TO CLASSIFY BETWEEN MASK AND NO MASK\n",
    "model = Sequential()\n",
    "model.add(Conv2D(32,(3,3),activation='relu',input_shape=(150,150,3)))\n",
    "model.add(MaxPooling2D() )\n",
    "model.add(Conv2D(32,(3,3),activation='relu'))\n",
    "model.add(MaxPooling2D() )\n",
    "model.add(Conv2D(32,(3,3),activation='relu'))\n",
    "model.add(MaxPooling2D() )\n",
    "model.add(Flatten())\n",
    "model.add(Dense(100,activation='relu'))\n",
    "model.add(Dense(1,activation='sigmoid'))\n",
    "\n",
    "model.compile(\n",
    "\toptimizer=tf.keras.optimizers.Adam(lr=LEARNING_RATE, decay=LEARNING_RATE / EPOCHS),\n",
    "\tloss=\"binary_crossentropy\",\n",
    "\tmetrics=[\"accuracy\"]\n",
    ")"
   ]
  },
  {
   "cell_type": "code",
   "execution_count": null,
   "metadata": {},
   "outputs": [],
   "source": [
    "train_datagen = ImageDataGenerator(\n",
    "        rescale=1./255,\n",
    "        shear_range=0.2,\n",
    "        zoom_range=0.2,\n",
    "        horizontal_flip=True)\n",
    "\n",
    "test_datagen = ImageDataGenerator(rescale=1./255)"
   ]
  },
  {
   "cell_type": "code",
   "execution_count": null,
   "metadata": {},
   "outputs": [],
   "source": [
    "training_set = train_datagen.flow_from_directory(\n",
    "        TRAIN_SET_PATH,\n",
    "        target_size=(150,150),\n",
    "        batch_size=16 ,\n",
    "        class_mode='binary')\n",
    "\n",
    "test_set = test_datagen.flow_from_directory(\n",
    "        TEST_SET_PATH,\n",
    "        target_size=(150,150),\n",
    "        batch_size=16,\n",
    "        class_mode='binary')"
   ]
  },
  {
   "cell_type": "code",
   "execution_count": null,
   "metadata": {},
   "outputs": [],
   "source": [
    "# UserWarning: `Model.fit_generator` is deprecated and will be removed in a future version. \n",
    "# Please use `Model.fit`, which supports generators.\n",
    "\n",
    "model_saved=model.fit_generator(\n",
    "        training_set,\n",
    "        epochs=10,\n",
    "        validation_data=test_set,\n",
    "        )\n",
    "\n",
    "model.save(model_path, model_saved)"
   ]
  },
  {
   "cell_type": "code",
   "execution_count": null,
   "metadata": {},
   "outputs": [],
   "source": [
    "model_saved_2 = model.fit(training_set, epochs=10, validation_data=test_set, verbose=2)\n",
    "\n",
    "model.save(\"../Models/mask-detection-model_v2.h5\", model_saved_2)"
   ]
  },
  {
   "cell_type": "code",
   "execution_count": null,
   "metadata": {},
   "outputs": [],
   "source": [
    "#To test for individual images\n",
    "model = load_model(model_path)\n",
    "\n",
    "\n",
    "test_image_withMask = image.load_img(\n",
    "    '../Data/test/with_mask/1-with-mask.jpg', \n",
    "    target_size=(150,150,3)\n",
    ")"
   ]
  },
  {
   "cell_type": "code",
   "execution_count": null,
   "metadata": {},
   "outputs": [],
   "source": [
    "test_image_withMask"
   ]
  },
  {
   "cell_type": "code",
   "execution_count": null,
   "metadata": {},
   "outputs": [],
   "source": [
    "# converting the image to a numpy array\n",
    "test_image_withMask = image.img_to_array(test_image_withMask)\n",
    "test_image_withMask = np.expand_dims(test_image_withMask,axis=0)\n",
    "model.predict(test_image_withMask)[0][0]"
   ]
  },
  {
   "cell_type": "code",
   "execution_count": null,
   "metadata": {},
   "outputs": [],
   "source": [
    "# IMPLEMENTING LIVE DETECTION OF FACE MASK\n",
    "\n",
    "mymodel = load_model(model_path)\n",
    "\n",
    "cap = cv2.VideoCapture(0)\n",
    "#cap = cv2.VideoCapture(1)\n",
    "face_cascade = cv2.CascadeClassifier('../Classifiers/cascade_frontalface_default.xml')\n",
    "\n",
    "while cap.isOpened():\n",
    "    _, img=cap.read()\n",
    "    face = face_cascade.detectMultiScale(img,scaleFactor=1.1,minNeighbors=8)\n",
    "    for(x,y,w,h) in face:\n",
    "        face_img = img[y:y+h, x:x+w]\n",
    "        cv2.imwrite('temp.jpg',face_img)\n",
    "        test_image=image.load_img('temp.jpg',target_size=(150,150,3))\n",
    "        test_image=image.img_to_array(test_image)\n",
    "        test_image=np.expand_dims(test_image,axis=0)\n",
    "        pred=mymodel.predict(test_image)[0][0]\n",
    "\n",
    "        if pred==1:\n",
    "            cv2.rectangle(img,(x,y),(x+w,y+h),(0,0,255),3)\n",
    "            cv2.putText(img,\n",
    "                'NO MASK',\n",
    "                ((x+w)//2,y+h+20),\n",
    "                cv2.FONT_HERSHEY_SIMPLEX,\n",
    "                1,\n",
    "                (0,0,255),\n",
    "                3\n",
    "            )\n",
    "            print(\"NO MASK\")\n",
    "        \n",
    "        else:\n",
    "            cv2.rectangle(img,(x,y),(x+w,y+h),(0,255,0),3)\n",
    "            cv2.putText(img,\n",
    "                'MASK',\n",
    "                ((x+w)//2,y+h+20),\n",
    "                cv2.FONT_HERSHEY_SIMPLEX,\n",
    "                1,\n",
    "                (0,255,0),\n",
    "                3\n",
    "            )\n",
    "            print(\"MASK\")\n",
    "\n",
    "        datet=str(datetime.datetime.now())\n",
    "        cv2.putText(img,\n",
    "            datet,\n",
    "            (400,450),\n",
    "            cv2.FONT_HERSHEY_SIMPLEX,\n",
    "            0.5,\n",
    "            (255,255,255),\n",
    "            1\n",
    "        )\n",
    "\n",
    "    cv2.imshow('Viewport',img)\n",
    "\n",
    "    if cv2.waitKey(1) == ord('q'):\n",
    "        break\n",
    "    \n",
    "cap.release()\n",
    "cv2.destroyAllWindows()"
   ]
  }
 ],
 "metadata": {
  "interpreter": {
   "hash": "13b91e19fad43d948d2bb87eff52a23014fcf43eaab6c14f1cbf4b81b4523cc5"
  },
  "kernelspec": {
   "display_name": "Python 3.10.4 ('Face_Recognition-nVs42PCE')",
   "language": "python",
   "name": "python3"
  },
  "language_info": {
   "codemirror_mode": {
    "name": "ipython",
    "version": 3
   },
   "file_extension": ".py",
   "mimetype": "text/x-python",
   "name": "python",
   "nbconvert_exporter": "python",
   "pygments_lexer": "ipython3",
   "version": "3.10.4"
  },
  "orig_nbformat": 4
 },
 "nbformat": 4,
 "nbformat_minor": 2
}
